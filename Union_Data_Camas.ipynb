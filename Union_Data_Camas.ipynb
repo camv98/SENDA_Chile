{
 "cells": [
  {
   "cell_type": "code",
   "execution_count": 2,
   "id": "710f5025-a31b-42a9-85d6-a582797402d5",
   "metadata": {},
   "outputs": [],
   "source": [
    "import pandas as pd"
   ]
  },
  {
   "cell_type": "code",
   "execution_count": 7,
   "id": "ce8aaeaf-7cdd-4e81-bdca-e862fc187a01",
   "metadata": {
    "jupyter": {
     "source_hidden": true
    }
   },
   "outputs": [],
   "source": [
    "archivo1 = 'Consolidado Estadísticas Hospitalarias 2014-2023.xlsx'\n",
    "df_uno = pd.read_excel(archivo1)"
   ]
  },
  {
   "cell_type": "code",
   "execution_count": 8,
   "id": "94c96d7e-e5dd-45d8-a160-1107d3fc0e63",
   "metadata": {
    "collapsed": true,
    "jupyter": {
     "outputs_hidden": true,
     "source_hidden": true
    }
   },
   "outputs": [
    {
     "data": {
      "text/html": [
       "<div>\n",
       "<style scoped>\n",
       "    .dataframe tbody tr th:only-of-type {\n",
       "        vertical-align: middle;\n",
       "    }\n",
       "\n",
       "    .dataframe tbody tr th {\n",
       "        vertical-align: top;\n",
       "    }\n",
       "\n",
       "    .dataframe thead th {\n",
       "        text-align: right;\n",
       "    }\n",
       "</style>\n",
       "<table border=\"1\" class=\"dataframe\">\n",
       "  <thead>\n",
       "    <tr style=\"text-align: right;\">\n",
       "      <th></th>\n",
       "      <th>Unnamed: 0</th>\n",
       "      <th>Unnamed: 1</th>\n",
       "      <th>Unnamed: 2</th>\n",
       "      <th>Unnamed: 3</th>\n",
       "      <th>Unnamed: 4</th>\n",
       "      <th>Unnamed: 5</th>\n",
       "      <th>Unnamed: 6</th>\n",
       "      <th>Unnamed: 7</th>\n",
       "      <th>Unnamed: 8</th>\n",
       "      <th>Unnamed: 9</th>\n",
       "      <th>Unnamed: 10</th>\n",
       "      <th>Unnamed: 11</th>\n",
       "      <th>Unnamed: 12</th>\n",
       "      <th>Unnamed: 13</th>\n",
       "      <th>Unnamed: 14</th>\n",
       "      <th>Unnamed: 15</th>\n",
       "      <th>Unnamed: 16</th>\n",
       "      <th>Unnamed: 17</th>\n",
       "      <th>Unnamed: 18</th>\n",
       "      <th>Unnamed: 19</th>\n",
       "    </tr>\n",
       "  </thead>\n",
       "  <tbody>\n",
       "    <tr>\n",
       "      <th>0</th>\n",
       "      <td>Indicadores Hospitalarios según Servicio de Sa...</td>\n",
       "      <td>NaN</td>\n",
       "      <td>NaN</td>\n",
       "      <td>NaN</td>\n",
       "      <td>NaN</td>\n",
       "      <td>NaN</td>\n",
       "      <td>NaN</td>\n",
       "      <td>NaN</td>\n",
       "      <td>NaN</td>\n",
       "      <td>NaN</td>\n",
       "      <td>NaN</td>\n",
       "      <td>NaN</td>\n",
       "      <td>NaN</td>\n",
       "      <td>NaN</td>\n",
       "      <td>NaN</td>\n",
       "      <td>NaN</td>\n",
       "      <td>NaN</td>\n",
       "      <td>NaN</td>\n",
       "      <td>NaN</td>\n",
       "      <td>NaN</td>\n",
       "    </tr>\n",
       "    <tr>\n",
       "      <th>1</th>\n",
       "      <td>Cód. SS/SEREMI</td>\n",
       "      <td>Nombre SS/SEREMI</td>\n",
       "      <td>Cód. Estab.</td>\n",
       "      <td>Nombre Establecimiento</td>\n",
       "      <td>Cód. Nivel Cuidado</td>\n",
       "      <td>Nombre Nivel Cuidado</td>\n",
       "      <td>Glosa</td>\n",
       "      <td>Acum</td>\n",
       "      <td>Ene</td>\n",
       "      <td>Feb</td>\n",
       "      <td>Mar</td>\n",
       "      <td>Abr</td>\n",
       "      <td>May</td>\n",
       "      <td>Jun</td>\n",
       "      <td>Jul</td>\n",
       "      <td>Ago</td>\n",
       "      <td>Sep</td>\n",
       "      <td>Oct</td>\n",
       "      <td>Nov</td>\n",
       "      <td>Dic</td>\n",
       "    </tr>\n",
       "    <tr>\n",
       "      <th>2</th>\n",
       "      <td>0</td>\n",
       "      <td>Datos País</td>\n",
       "      <td>0</td>\n",
       "      <td>Datos País</td>\n",
       "      <td>0</td>\n",
       "      <td>Datos País</td>\n",
       "      <td>Dias Cama Disponibles</td>\n",
       "      <td>9156625</td>\n",
       "      <td>759310</td>\n",
       "      <td>684633</td>\n",
       "      <td>768758</td>\n",
       "      <td>747010</td>\n",
       "      <td>772696</td>\n",
       "      <td>760696</td>\n",
       "      <td>791949</td>\n",
       "      <td>788720</td>\n",
       "      <td>761786</td>\n",
       "      <td>786209</td>\n",
       "      <td>758168</td>\n",
       "      <td>776690</td>\n",
       "    </tr>\n",
       "    <tr>\n",
       "      <th>3</th>\n",
       "      <td>0</td>\n",
       "      <td>Datos País</td>\n",
       "      <td>0</td>\n",
       "      <td>Datos País</td>\n",
       "      <td>0</td>\n",
       "      <td>Datos País</td>\n",
       "      <td>Dias Cama Ocupados</td>\n",
       "      <td>7161373</td>\n",
       "      <td>581831</td>\n",
       "      <td>515403</td>\n",
       "      <td>597638</td>\n",
       "      <td>575684</td>\n",
       "      <td>605144</td>\n",
       "      <td>611365</td>\n",
       "      <td>646145</td>\n",
       "      <td>634786</td>\n",
       "      <td>596169</td>\n",
       "      <td>624344</td>\n",
       "      <td>594620</td>\n",
       "      <td>578244</td>\n",
       "    </tr>\n",
       "    <tr>\n",
       "      <th>4</th>\n",
       "      <td>0</td>\n",
       "      <td>Datos País</td>\n",
       "      <td>0</td>\n",
       "      <td>Datos País</td>\n",
       "      <td>0</td>\n",
       "      <td>Datos País</td>\n",
       "      <td>Dias de Estada</td>\n",
       "      <td>7039263</td>\n",
       "      <td>567418</td>\n",
       "      <td>513165</td>\n",
       "      <td>548377</td>\n",
       "      <td>590199</td>\n",
       "      <td>574454</td>\n",
       "      <td>590042</td>\n",
       "      <td>641542</td>\n",
       "      <td>635308</td>\n",
       "      <td>598566</td>\n",
       "      <td>624659</td>\n",
       "      <td>553521</td>\n",
       "      <td>602012</td>\n",
       "    </tr>\n",
       "  </tbody>\n",
       "</table>\n",
       "</div>"
      ],
      "text/plain": [
       "                                          Unnamed: 0        Unnamed: 1  \\\n",
       "0  Indicadores Hospitalarios según Servicio de Sa...               NaN   \n",
       "1                                     Cód. SS/SEREMI  Nombre SS/SEREMI   \n",
       "2                                                  0        Datos País   \n",
       "3                                                  0        Datos País   \n",
       "4                                                  0        Datos País   \n",
       "\n",
       "    Unnamed: 2              Unnamed: 3          Unnamed: 4  \\\n",
       "0          NaN                     NaN                 NaN   \n",
       "1  Cód. Estab.  Nombre Establecimiento  Cód. Nivel Cuidado   \n",
       "2            0              Datos País                   0   \n",
       "3            0              Datos País                   0   \n",
       "4            0              Datos País                   0   \n",
       "\n",
       "             Unnamed: 5             Unnamed: 6 Unnamed: 7 Unnamed: 8  \\\n",
       "0                   NaN                    NaN        NaN        NaN   \n",
       "1  Nombre Nivel Cuidado                  Glosa       Acum        Ene   \n",
       "2            Datos País  Dias Cama Disponibles    9156625     759310   \n",
       "3            Datos País     Dias Cama Ocupados    7161373     581831   \n",
       "4            Datos País         Dias de Estada    7039263     567418   \n",
       "\n",
       "  Unnamed: 9 Unnamed: 10 Unnamed: 11 Unnamed: 12 Unnamed: 13 Unnamed: 14  \\\n",
       "0        NaN         NaN         NaN         NaN         NaN         NaN   \n",
       "1        Feb         Mar         Abr         May         Jun         Jul   \n",
       "2     684633      768758      747010      772696      760696      791949   \n",
       "3     515403      597638      575684      605144      611365      646145   \n",
       "4     513165      548377      590199      574454      590042      641542   \n",
       "\n",
       "  Unnamed: 15 Unnamed: 16 Unnamed: 17 Unnamed: 18 Unnamed: 19  \n",
       "0         NaN         NaN         NaN         NaN         NaN  \n",
       "1         Ago         Sep         Oct         Nov         Dic  \n",
       "2      788720      761786      786209      758168      776690  \n",
       "3      634786      596169      624344      594620      578244  \n",
       "4      635308      598566      624659      553521      602012  "
      ]
     },
     "execution_count": 8,
     "metadata": {},
     "output_type": "execute_result"
    }
   ],
   "source": [
    "df_uno.head()"
   ]
  },
  {
   "cell_type": "code",
   "execution_count": 19,
   "id": "8ec20356-155c-4918-997d-2ee9547e9bb0",
   "metadata": {},
   "outputs": [
    {
     "name": "stdout",
     "output_type": "stream",
     "text": [
      "✅ CSV generado para el año 2014: 2014.csv\n",
      "✅ CSV generado para el año 2015: 2015.csv\n",
      "✅ CSV generado para el año 2016: 2016.csv\n",
      "✅ CSV generado para el año 2017: 2017.csv\n",
      "✅ CSV generado para el año 2018: 2018.csv\n",
      "✅ CSV generado para el año 2019: 2019.csv\n",
      "✅ CSV generado para el año 2020: 2020.csv\n",
      "✅ CSV generado para el año 2021: 2021.csv\n",
      "✅ CSV generado para el año 2022: 2022.csv\n",
      "✅ CSV generado para el año 2023: 2023.csv\n"
     ]
    }
   ],
   "source": [
    "ruta_excel = \"Consolidado Estadísticas Hospitalarias 2014-2023.xlsx\"\n",
    "\n",
    "hojas = pd.read_excel(ruta_excel, sheet_name=None)\n",
    "\n",
    "for nombre_hoja, df_uno in hojas.items():\n",
    "    try:\n",
    "\n",
    "        df_uno = df_uno.drop(index=0).reset_index(drop=True)\n",
    "        df_uno.columns = df_uno.iloc[0]\n",
    "        df_uno = df_uno[1:].reset_index(drop=True)\n",
    "\n",
    "        nombre_csv = f\"{nombre_hoja}.csv\"\n",
    "        df_uno.to_csv(nombre_csv, index=False)\n",
    "        print(f\"✅ CSV generado para el año {nombre_hoja}: {nombre_csv}\")\n",
    "    except Exception as e:\n",
    "        print(f\"⚠️ Error procesando la hoja {nombre_hoja}: {e}\")\n"
   ]
  },
  {
   "cell_type": "code",
   "execution_count": 22,
   "id": "50e84079-e05a-4452-b3e9-b49151dee420",
   "metadata": {},
   "outputs": [
    {
     "data": {
      "text/plain": [
       "[2014, 2015, 2016, 2017, 2018, 2019, 2020, 2021, 2022, 2023]"
      ]
     },
     "execution_count": 22,
     "metadata": {},
     "output_type": "execute_result"
    }
   ],
   "source": [
    "años = list(range(2014, 2024))\n",
    "\n",
    "csvs_por_año = {}\n",
    "\n",
    "for año in años:\n",
    "    ruta_csv = f\"{año}.csv\"\n",
    "    try:\n",
    "        df = pd.read_csv(ruta_csv)\n",
    "        csvs_por_año[año] = df\n",
    "    except Exception as e:\n",
    "        print(f\"⚠️ Error al cargar {año}.csv: {e}\")\n",
    "\n",
    "# Mostrar las claves cargadas para confirmar\n",
    "list(csvs_por_año.keys())"
   ]
  },
  {
   "cell_type": "code",
   "execution_count": 24,
   "id": "7d26d348-5101-43f3-a75f-85438ed13da8",
   "metadata": {},
   "outputs": [
    {
     "data": {
      "text/plain": [
       "[2014, 2015, 2016, 2017, 2018, 2019, 2020, 2021, 2022, 2023, 2024, 2025]"
      ]
     },
     "execution_count": 24,
     "metadata": {},
     "output_type": "execute_result"
    }
   ],
   "source": [
    "csv_2024 = pd.read_csv(\"2024.csv\")\n",
    "csv_2025 = pd.read_csv(\"2025.csv\")\n",
    "\n",
    "csvs_por_año[2024] = csv_2024\n",
    "csvs_por_año[2025] = csv_2025\n",
    "\n",
    "list(csvs_por_año.keys())\n"
   ]
  },
  {
   "cell_type": "code",
   "execution_count": 35,
   "id": "d5b715f5-6306-4153-9c2d-6bfd2272dd1c",
   "metadata": {},
   "outputs": [
    {
     "name": "stdout",
     "output_type": "stream",
     "text": [
      "✅ CSV filtrado guardado: 2014_filtrado.csv\n",
      "✅ CSV filtrado guardado: 2015_filtrado.csv\n",
      "✅ CSV filtrado guardado: 2016_filtrado.csv\n",
      "✅ CSV filtrado guardado: 2017_filtrado.csv\n",
      "✅ CSV filtrado guardado: 2018_filtrado.csv\n",
      "✅ CSV filtrado guardado: 2019_filtrado.csv\n",
      "✅ CSV filtrado guardado: 2020_filtrado.csv\n",
      "✅ CSV filtrado guardado: 2021_filtrado.csv\n",
      "✅ CSV filtrado guardado: 2022_filtrado.csv\n",
      "✅ CSV filtrado guardado: 2023_filtrado.csv\n",
      "✅ CSV filtrado guardado: 2024_filtrado.csv\n",
      "✅ CSV filtrado guardado: 2025_filtrado.csv\n"
     ]
    }
   ],
   "source": [
    "hospitales_por_año = {\n",
    "    anio: set(df['Nombre Establecimiento'].dropna().unique())\n",
    "    for año, df in csvs_por_año.items()\n",
    "}\n",
    "hospitales_comunes = set.intersection(*hospitales_por_año.values())\n",
    "\n",
    "for año, df in csvs_por_año.items():\n",
    "    df_filtrado = df[df['Nombre Establecimiento'].isin(hospitales_comunes)].copy()\n",
    "    nombre_csv = f\"{año}_filtrado.csv\"\n",
    "    df_filtrado.to_csv(nombre_csv, index=False)\n",
    "    print(f\"✅ CSV filtrado guardado: {nombre_csv}\")\n"
   ]
  },
  {
   "cell_type": "code",
   "execution_count": 38,
   "id": "d0e59f69-a12b-4734-a879-312d66809503",
   "metadata": {},
   "outputs": [
    {
     "data": {
      "text/plain": [
       "['2025_filtrado.csv',\n",
       " '2025_filtrado.csv',\n",
       " '2025_filtrado.csv',\n",
       " '2025_filtrado.csv',\n",
       " '2025_filtrado.csv',\n",
       " '2025_filtrado.csv',\n",
       " '2025_filtrado.csv',\n",
       " '2025_filtrado.csv',\n",
       " '2025_filtrado.csv',\n",
       " '2025_filtrado.csv',\n",
       " '2025_filtrado.csv',\n",
       " '2025_filtrado.csv']"
      ]
     },
     "execution_count": 38,
     "metadata": {},
     "output_type": "execute_result"
    }
   ],
   "source": [
    "# Guardar directamente todos los DataFrames filtrados como archivos CSV (sin compresión)\n",
    "for año, df in csvs_filtrados.items():\n",
    "    ruta_salida = f\"{año}_filtrado.csv\"\n",
    "    df.to_csv(ruta_salida, index=False)\n",
    "\n",
    "# Confirmar que se guardaron correctamente\n",
    "archivos_guardados = [f\"{año}_filtrado.csv\" for anio in csvs_filtrados.keys()]\n",
    "archivos_guardados\n"
   ]
  },
  {
   "cell_type": "code",
   "execution_count": null,
   "id": "5894706e-8c69-4059-9acc-0d11c9795764",
   "metadata": {},
   "outputs": [],
   "source": []
  },
  {
   "cell_type": "code",
   "execution_count": null,
   "id": "6aada387-8ed9-41be-9992-0db8f8314e3a",
   "metadata": {},
   "outputs": [],
   "source": []
  },
  {
   "cell_type": "code",
   "execution_count": null,
   "id": "020f9205-7aec-4ede-908a-cca5e01d288f",
   "metadata": {},
   "outputs": [],
   "source": []
  },
  {
   "cell_type": "code",
   "execution_count": null,
   "id": "34824262-9dd8-4682-a73b-b7c2365cc6af",
   "metadata": {},
   "outputs": [],
   "source": []
  },
  {
   "cell_type": "code",
   "execution_count": null,
   "id": "6f3edbe6-af20-44f2-996f-ab7a8e5ca7f1",
   "metadata": {},
   "outputs": [],
   "source": []
  },
  {
   "cell_type": "code",
   "execution_count": null,
   "id": "2b596b89-73f9-4ade-b206-02ec2777d647",
   "metadata": {},
   "outputs": [],
   "source": []
  }
 ],
 "metadata": {
  "kernelspec": {
   "display_name": "Python 3 (ipykernel)",
   "language": "python",
   "name": "python3"
  },
  "language_info": {
   "codemirror_mode": {
    "name": "ipython",
    "version": 3
   },
   "file_extension": ".py",
   "mimetype": "text/x-python",
   "name": "python",
   "nbconvert_exporter": "python",
   "pygments_lexer": "ipython3",
   "version": "3.10.6"
  }
 },
 "nbformat": 4,
 "nbformat_minor": 5
}
