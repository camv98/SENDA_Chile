{
 "cells": [
  {
   "cell_type": "code",
   "execution_count": 2,
   "id": "708fd650-217a-4b61-9716-aa48208461af",
   "metadata": {},
   "outputs": [
    {
     "data": {
      "text/html": [
       "<div>\n",
       "<style scoped>\n",
       "    .dataframe tbody tr th:only-of-type {\n",
       "        vertical-align: middle;\n",
       "    }\n",
       "\n",
       "    .dataframe tbody tr th {\n",
       "        vertical-align: top;\n",
       "    }\n",
       "\n",
       "    .dataframe thead th {\n",
       "        text-align: right;\n",
       "    }\n",
       "</style>\n",
       "<table border=\"1\" class=\"dataframe\">\n",
       "  <thead>\n",
       "    <tr style=\"text-align: right;\">\n",
       "      <th></th>\n",
       "      <th>Unnamed: 0</th>\n",
       "      <th>Mes</th>\n",
       "      <th>temperature_2m_max</th>\n",
       "      <th>temperature_2m_min</th>\n",
       "      <th>precipitation_sum</th>\n",
       "      <th>winddirection_10m_dominant</th>\n",
       "      <th>SEREMI</th>\n",
       "    </tr>\n",
       "  </thead>\n",
       "  <tbody>\n",
       "    <tr>\n",
       "      <th>0</th>\n",
       "      <td>0</td>\n",
       "      <td>2014-01</td>\n",
       "      <td>10.561290</td>\n",
       "      <td>5.864516</td>\n",
       "      <td>68.4</td>\n",
       "      <td>277.451613</td>\n",
       "      <td>Magallanes</td>\n",
       "    </tr>\n",
       "    <tr>\n",
       "      <th>1</th>\n",
       "      <td>1</td>\n",
       "      <td>2014-02</td>\n",
       "      <td>12.021429</td>\n",
       "      <td>7.053571</td>\n",
       "      <td>53.7</td>\n",
       "      <td>279.928571</td>\n",
       "      <td>Magallanes</td>\n",
       "    </tr>\n",
       "    <tr>\n",
       "      <th>2</th>\n",
       "      <td>2</td>\n",
       "      <td>2014-03</td>\n",
       "      <td>10.125806</td>\n",
       "      <td>5.222581</td>\n",
       "      <td>80.5</td>\n",
       "      <td>271.870968</td>\n",
       "      <td>Magallanes</td>\n",
       "    </tr>\n",
       "    <tr>\n",
       "      <th>3</th>\n",
       "      <td>3</td>\n",
       "      <td>2014-04</td>\n",
       "      <td>9.390000</td>\n",
       "      <td>4.570000</td>\n",
       "      <td>36.6</td>\n",
       "      <td>232.166667</td>\n",
       "      <td>Magallanes</td>\n",
       "    </tr>\n",
       "    <tr>\n",
       "      <th>4</th>\n",
       "      <td>4</td>\n",
       "      <td>2014-05</td>\n",
       "      <td>6.370968</td>\n",
       "      <td>2.554839</td>\n",
       "      <td>23.7</td>\n",
       "      <td>226.096774</td>\n",
       "      <td>Magallanes</td>\n",
       "    </tr>\n",
       "  </tbody>\n",
       "</table>\n",
       "</div>"
      ],
      "text/plain": [
       "   Unnamed: 0      Mes  temperature_2m_max  temperature_2m_min  \\\n",
       "0           0  2014-01           10.561290            5.864516   \n",
       "1           1  2014-02           12.021429            7.053571   \n",
       "2           2  2014-03           10.125806            5.222581   \n",
       "3           3  2014-04            9.390000            4.570000   \n",
       "4           4  2014-05            6.370968            2.554839   \n",
       "\n",
       "   precipitation_sum  winddirection_10m_dominant      SEREMI  \n",
       "0               68.4                  277.451613  Magallanes  \n",
       "1               53.7                  279.928571  Magallanes  \n",
       "2               80.5                  271.870968  Magallanes  \n",
       "3               36.6                  232.166667  Magallanes  \n",
       "4               23.7                  226.096774  Magallanes  "
      ]
     },
     "execution_count": 2,
     "metadata": {},
     "output_type": "execute_result"
    }
   ],
   "source": [
    "import pandas as pd\n",
    "\n",
    "file_path = \"todos_los_seremi_2014.csv\"\n",
    "df = pd.read_csv(file_path)\n",
    "\n",
    "df.head()\n"
   ]
  },
  {
   "cell_type": "code",
   "execution_count": 5,
   "id": "915dfd1c-e03a-40f6-b87e-b145478be1c1",
   "metadata": {},
   "outputs": [
    {
     "data": {
      "text/plain": [
       "{2014: 'seremi_2014.csv',\n",
       " 2015: 'seremi_2015.csv',\n",
       " 2016: 'seremi_2016.csv',\n",
       " 2017: 'seremi_2017.csv',\n",
       " 2018: 'seremi_2018.csv',\n",
       " 2019: 'seremi_2019.csv',\n",
       " 2020: 'seremi_2020.csv',\n",
       " 2021: 'seremi_2021.csv',\n",
       " 2022: 'seremi_2022.csv',\n",
       " 2023: 'seremi_2023.csv',\n",
       " 2024: 'seremi_2024.csv',\n",
       " 2025: 'seremi_2025.csv'}"
      ]
     },
     "execution_count": 5,
     "metadata": {},
     "output_type": "execute_result"
    }
   ],
   "source": [
    "df['Mes'] = pd.to_datetime(df['Mes'], format='%Y-%m')\n",
    "\n",
    "years = range(2014, 2026)\n",
    "output_paths = {}\n",
    "\n",
    "for year in years:\n",
    "    df_year = df[df['Mes'].dt.year == year]\n",
    "    output_path = f\"seremi_{year}.csv\"\n",
    "    df_year.to_csv(output_path, index=False)\n",
    "    output_paths[year] = output_path\n",
    "\n",
    "output_paths\n"
   ]
  },
  {
   "cell_type": "code",
   "execution_count": 6,
   "id": "c63503b3-2332-4cfe-a19c-b77732eb4479",
   "metadata": {},
   "outputs": [
    {
     "name": "stdout",
     "output_type": "stream",
     "text": [
      "Archivos guardados localmente en tu entorno de Jupyter.\n"
     ]
    }
   ],
   "source": [
    "for year in range(2014, 2026):\n",
    "    df_year = df[df['Mes'].dt.year == year]\n",
    "    df_year.to_csv(f\"seremi_{year}.csv\", index=False)\n",
    "\n",
    "print(\"Archivos guardados localmente en tu entorno de Jupyter.\")\n"
   ]
  },
  {
   "cell_type": "code",
   "execution_count": null,
   "id": "838ba0f2-4872-43f2-8e54-e7fbafa6f46a",
   "metadata": {},
   "outputs": [],
   "source": []
  }
 ],
 "metadata": {
  "kernelspec": {
   "display_name": "Python 3 (ipykernel)",
   "language": "python",
   "name": "python3"
  },
  "language_info": {
   "codemirror_mode": {
    "name": "ipython",
    "version": 3
   },
   "file_extension": ".py",
   "mimetype": "text/x-python",
   "name": "python",
   "nbconvert_exporter": "python",
   "pygments_lexer": "ipython3",
   "version": "3.10.6"
  }
 },
 "nbformat": 4,
 "nbformat_minor": 5
}
