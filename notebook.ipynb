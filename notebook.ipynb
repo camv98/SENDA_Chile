{
 "cells": [
  {
   "cell_type": "markdown",
   "id": "165e9ef1",
   "metadata": {},
   "source": [
    "Este es el notebook de guillermo"
   ]
  },
  {
   "cell_type": "code",
   "execution_count": null,
   "id": "d020fb3d",
   "metadata": {},
   "outputs": [],
   "source": [
    "import pandas as pd\n",
    "\n",
    "ruta = '/home/guillermo/code/niuxphrasus/Proyecto SENDA/Consolidado Estadísticas Hospitalarias 2014-2023.xlsx'\n",
    "df = pd.read_excel(ruta)\n"
   ]
  },
  {
   "cell_type": "code",
   "execution_count": null,
   "id": "698d25dd",
   "metadata": {},
   "outputs": [],
   "source": [
    "xls = pd.ExcelFile(ruta)\n",
    "xls.sheet_names"
   ]
  },
  {
   "cell_type": "code",
   "execution_count": null,
   "id": "6b2463d9",
   "metadata": {},
   "outputs": [],
   "source": [
    "df = pd.read_excel(ruta, sheet_name='2022')"
   ]
  },
  {
   "cell_type": "code",
   "execution_count": null,
   "id": "65ecd13b",
   "metadata": {},
   "outputs": [],
   "source": [
    "df.columns\n"
   ]
  },
  {
   "cell_type": "code",
   "execution_count": null,
   "id": "a1fe89be",
   "metadata": {},
   "outputs": [],
   "source": [
    "df.head()"
   ]
  },
  {
   "cell_type": "code",
   "execution_count": null,
   "id": "6b477c3b",
   "metadata": {},
   "outputs": [],
   "source": [
    "df['Nombre Establecimiento'].nunique()"
   ]
  },
  {
   "cell_type": "code",
   "execution_count": null,
   "id": "2e47a908",
   "metadata": {},
   "outputs": [],
   "source": [
    "cols_meses = ['Ene', 'Feb', 'Mar', 'Abr', 'May', 'Jun', 'Jul', 'Ago', 'Sep', 'Oct', 'Nov', 'Dic']\n",
    "glosa = \"Dias Cama Disponibles\"\n",
    "df_hospitales = df[df[\"Nombre Nivel Cuidado\"] == \"Datos Establecimiento\"]\n",
    "df_glosa = df_hospitales[df_hospitales[\"Glosa\"] == glosa]\n",
    "zeros_por_hospital = df_glosa.set_index(\"Nombre Establecimiento\")[cols_meses].eq(0).sum(axis=1)\n",
    "hospitales_con_ceros = zeros_por_hospital[zeros_por_hospital > 0].sort_values(ascending=False)\n",
    "hospitales_con_ceros"
   ]
  },
  {
   "cell_type": "code",
   "execution_count": null,
   "id": "9751ddae",
   "metadata": {},
   "outputs": [],
   "source": [
    "# Hospitales unicos\n",
    "# df_unico = df[['Nombre Establecimiento']].drop_duplicates()\n",
    "# df_unico.to_csv('nombres_establecimientos_unicos.csv', index=False, encoding='utf-8-sig')\n"
   ]
  },
  {
   "cell_type": "code",
   "execution_count": null,
   "id": "04c6d4c7",
   "metadata": {},
   "outputs": [],
   "source": [
    "ruta = '/home/guillermo/code/niuxphrasus/Proyecto SENDA/hospitales_unicos_2022.csv'\n",
    "df2 = pd.read_csv(ruta)"
   ]
  },
  {
   "cell_type": "code",
   "execution_count": null,
   "id": "ffa0f5f8",
   "metadata": {},
   "outputs": [],
   "source": [
    "df2.to_csv('df2_limpio.csv', index=False, encoding='utf-8-sig')"
   ]
  },
  {
   "cell_type": "code",
   "execution_count": null,
   "id": "ed430f88",
   "metadata": {},
   "outputs": [],
   "source": [
    "ruta = '/home/guillermo/code/niuxphrasus/Proyecto SENDA/hospitales_unicos_2021.csv'\n",
    "df3 = pd.read_csv(ruta)\n",
    "ruta = '/home/guillermo/code/niuxphrasus/Proyecto SENDA/hospitales_unicos_2023.csv'\n",
    "df4 = pd.read_csv(ruta)\n",
    "ruta = '/home/guillermo/code/niuxphrasus/Proyecto SENDA/hospitales_unicos_2024.csv'\n",
    "df5 = pd.read_csv(ruta)\n",
    "ruta = '/home/guillermo/code/niuxphrasus/Proyecto SENDA/hospitales_unicos_2025.csv'\n",
    "df6 = pd.read_csv(ruta)"
   ]
  },
  {
   "cell_type": "code",
   "execution_count": null,
   "id": "97c911ec",
   "metadata": {},
   "outputs": [],
   "source": [
    "df_merged = pd.concat([df2, df3, df4, df5, df6], ignore_index=True)"
   ]
  },
  {
   "cell_type": "code",
   "execution_count": null,
   "id": "ec18ebbc",
   "metadata": {},
   "outputs": [],
   "source": [
    "df_merged = df_merged.iloc[:, [0]]"
   ]
  },
  {
   "cell_type": "code",
   "execution_count": null,
   "id": "ea600051",
   "metadata": {},
   "outputs": [],
   "source": [
    "df_merged.to_csv('df_merged.csv', index=False, encoding='utf-8-sig')"
   ]
  },
  {
   "cell_type": "markdown",
   "id": "e8701806",
   "metadata": {},
   "source": [
    "# Funcion para el preprocesado de datos en base a columnas"
   ]
  },
  {
   "cell_type": "code",
   "execution_count": null,
   "id": "1bcb292c",
   "metadata": {},
   "outputs": [],
   "source": [
    "import pandas as pd\n",
    "from sklearn.preprocessing import StandardScaler, OneHotEncoder\n",
    "from sklearn.model_selection import train_test_split\n",
    "from sklearn.impute import SimpleImputer\n",
    "from sklearn.compose import ColumnTransformer\n",
    "from sklearn.pipeline import Pipeline\n",
    "\n",
    "def preprocesar_datos(df, target_column, numerical_features=None, categorical_features=None, test_size=0.2, random_state=42):\n",
    "    \"\"\"\n",
    "    Función de preprocesado para entrenar un modelo.\n",
    "\n",
    "    Parametros:\n",
    "    - df: pd.DataFrame - El DataFrame con los datos.\n",
    "    - target_column: str - El nombre de la columna objetivo (target).\n",
    "    - numerical_features: list - Lista de nombres de columnas numéricas (opcional).\n",
    "    - categorical_features: list - Lista de nombres de columnas categóricas (opcional).\n",
    "    - test_size: float - Proporción del conjunto de prueba (por defecto 0.2).\n",
    "    - random_state: int - Semilla para la aleatoriedad (por defecto 42).\n",
    "\n",
    "    Retorna:\n",
    "    - X_train, X_test, y_train, y_test: Los conjuntos de entrenamiento y prueba.\n",
    "    \"\"\"\n",
    "\n",
    "    # Separa las características (X) y la variable objetivo (y)\n",
    "    X = df.drop(columns=[target_column])\n",
    "    y = df[target_column]\n",
    "\n",
    "    # Imputación de datos faltantes\n",
    "    # Si no se especifican las columnas, asignamos las numéricas y categóricas\n",
    "    if numerical_features is None:\n",
    "        numerical_features = X.select_dtypes(include=['float64', 'int64']).columns.tolist()\n",
    "\n",
    "    if categorical_features is None:\n",
    "        categorical_features = X.select_dtypes(include=['object']).columns.tolist()\n",
    "\n",
    "    # Preprocesamiento para columnas numéricas y categóricas\n",
    "    numerical_transformer = Pipeline(steps=[\n",
    "        ('imputer', SimpleImputer(strategy='mean')),  # Imputa con la media\n",
    "        ('scaler', StandardScaler())  # Escala los datos numéricos\n",
    "    ])\n",
    "\n",
    "    categorical_transformer = Pipeline(steps=[\n",
    "        ('imputer', SimpleImputer(strategy='most_frequent')),  # Imputa con el valor más frecuente\n",
    "        ('onehot', OneHotEncoder(handle_unknown='ignore'))  # Codifica con OneHotEncoder\n",
    "    ])\n",
    "\n",
    "    # Combina las transformaciones para las columnas numéricas y categóricas\n",
    "    preprocessor = ColumnTransformer(\n",
    "        transformers=[\n",
    "            ('num', numerical_transformer, numerical_features),\n",
    "            ('cat', categorical_transformer, categorical_features)\n",
    "        ]\n",
    "    )\n",
    "\n",
    "    # Divide el conjunto de datos en entrenamiento y prueba\n",
    "    X_train, X_test, y_train, y_test = train_test_split(X, y, test_size=test_size, random_state=random_state)\n",
    "\n",
    "    # Aplica el preprocesamiento al conjunto de entrenamiento y prueba\n",
    "    X_train = preprocessor.fit_transform(X_train)\n",
    "    X_test = preprocessor.transform(X_test)\n",
    "\n",
    "    return X_train, X_test, y_train, y_test\n"
   ]
  },
  {
   "cell_type": "markdown",
   "id": "b8c7dedb",
   "metadata": {},
   "source": [
    "# Funcion para el preprocesado de datos en base a filas"
   ]
  },
  {
   "cell_type": "code",
   "execution_count": null,
   "id": "c6dbd3a9",
   "metadata": {},
   "outputs": [],
   "source": [
    "import pandas as pd\n",
    "from sklearn.preprocessing import StandardScaler, OneHotEncoder\n",
    "from sklearn.model_selection import train_test_split\n",
    "from sklearn.impute import SimpleImputer\n",
    "from sklearn.compose import ColumnTransformer\n",
    "from sklearn.pipeline import Pipeline\n",
    "\n",
    "def preprocesar_datos_por_filas(df, rows_to_consider=None, test_size=0.2, random_state=42):\n",
    "    \"\"\"\n",
    "    Función de preprocesado que realiza transformaciones para cada fila en vez de columna.\n",
    "\n",
    "    Parametros:\n",
    "    - df: pd.DataFrame - El DataFrame con los datos.\n",
    "    - rows_to_consider: list - Lista de índices de filas a considerar (opcional).\n",
    "    - test_size: float - Proporción del conjunto de prueba (por defecto 0.2).\n",
    "    - random_state: int - Semilla para la aleatoriedad (por defecto 42).\n",
    "\n",
    "    Retorna:\n",
    "    - X_train, X_test, y_train, y_test: Los conjuntos de entrenamiento y prueba.\n",
    "    \"\"\"\n",
    "\n",
    "    # Si no se especifican las filas a considerar, usa todas las filas\n",
    "    if rows_to_consider is None:\n",
    "        rows_to_consider = df.index.tolist()\n",
    "\n",
    "    # Filtra el DataFrame por las filas seleccionadas\n",
    "    df_filtered = df.loc[rows_to_consider]\n",
    "\n",
    "    # Detecta automáticamente la columna objetivo (última columna en el DataFrame)\n",
    "    target_column = df_filtered.columns[-1]\n",
    "\n",
    "    # Separa las características (X) y la variable objetivo (y)\n",
    "    X = df_filtered.drop(columns=[target_column])\n",
    "    y = df_filtered[target_column]\n",
    "\n",
    "    # Preprocesamiento por fila\n",
    "    preprocessor = ColumnTransformer(\n",
    "        transformers=[\n",
    "            ('num', Pipeline(steps=[\n",
    "                ('imputer', SimpleImputer(strategy='mean')),  # Imputa con la media\n",
    "                ('scaler', StandardScaler())  # Escala los datos numéricos\n",
    "            ]), X.select_dtypes(include=['float64', 'int64']).columns.tolist()),  # Selecciona columnas numéricas automáticamente\n",
    "\n",
    "            ('cat', Pipeline(steps=[\n",
    "                ('imputer', SimpleImputer(strategy='most_frequent')),  # Imputa con el valor más frecuente\n",
    "                ('onehot', OneHotEncoder(handle_unknown='ignore'))  # Codifica con OneHotEncoder\n",
    "            ]), X.select_dtypes(include=['object']).columns.tolist())  # Selecciona columnas categóricas automáticamente\n",
    "        ]\n",
    "    )\n",
    "\n",
    "    # Aplica el preprocesamiento por fila: el preprocesador aplica las transformaciones por cada fila\n",
    "    X_processed = preprocessor.fit_transform(X)\n",
    "\n",
    "    # Divide el conjunto de datos en entrenamiento y prueba\n",
    "    X_train, X_test, y_train, y_test = train_test_split(X_processed, y, test_size=test_size, random_state=random_state)\n",
    "\n",
    "    return X_train, X_test, y_train, y_test\n"
   ]
  },
  {
   "cell_type": "markdown",
   "id": "969d1487",
   "metadata": {},
   "source": [
    "# Preprocesado "
   ]
  },
  {
   "cell_type": "code",
   "execution_count": 30,
   "id": "564f50e2",
   "metadata": {},
   "outputs": [
    {
     "name": "stdout",
     "output_type": "stream",
     "text": [
      "   Cód. SS/SEREMI Nombre SS/SEREMI  Cód. Estab. Nombre Establecimiento  \\\n",
      "0               0       Datos País            0             Datos País   \n",
      "1               0       Datos País            0             Datos País   \n",
      "2               0       Datos País            0             Datos País   \n",
      "\n",
      "   Cód. Nivel Cuidado Nombre Nivel Cuidado                  Glosa       Acum  \\\n",
      "0                   0           Datos País  Dias Cama Disponibles  9156625.0   \n",
      "1                   0           Datos País     Dias Cama Ocupados  7161373.0   \n",
      "2                   0           Datos País         Dias de Estada  7039263.0   \n",
      "\n",
      "        Ene       Feb       Mar       Abr       May       Jun       Jul  \\\n",
      "0  759310.0  684633.0  768758.0  747010.0  772696.0  760696.0  791949.0   \n",
      "1  581831.0  515403.0  597638.0  575684.0  605144.0  611365.0  646145.0   \n",
      "2  567418.0  513165.0  548377.0  590199.0  574454.0  590042.0  641542.0   \n",
      "\n",
      "        Ago       Sep       Oct       Nov       Dic  \n",
      "0  788720.0  761786.0  786209.0  758168.0  776690.0  \n",
      "1  634786.0  596169.0  624344.0  594620.0  578244.0  \n",
      "2  635308.0  598566.0  624659.0  553521.0  602012.0  \n",
      "                           Nombre Establecimiento\n",
      "0  Hospital Dr. Ernesto Torres Galdames (Iquique)\n",
      "1      Hospital Dr. Leonardo Guzmán (Antofagasta)\n",
      "2          Hospital Dr. Carlos Cisternas (Calama)\n"
     ]
    }
   ],
   "source": [
    "import pandas as pd\n",
    "\n",
    "# Cargar el archivo Excel de estadísticas hospitalarias\n",
    "df_estadisticas = pd.read_excel('/home/guillermo/code/niuxphrasus/Proyecto SENDA/Consolidado Estadísticas Hospitalarias 2014-2023.xlsx')\n",
    "\n",
    "# Cargar el archivo CSV con hospitales únicos\n",
    "df_hospitales = pd.read_csv('/home/guillermo/code/niuxphrasus/Proyecto SENDA/hospitales_unicos_merge.csv')\n",
    "\n",
    "# Verificar las primeras filas de cada uno\n",
    "print(df_estadisticas.head(3))\n",
    "print(df_hospitales.head(3))\n"
   ]
  },
  {
   "cell_type": "code",
   "execution_count": 26,
   "id": "b2532a83",
   "metadata": {},
   "outputs": [
    {
     "name": "stdout",
     "output_type": "stream",
     "text": [
      "     Cód. SS/SEREMI Nombre SS/SEREMI  Cód. Estab.  Nombre Establecimiento  \\\n",
      "722               3      Antofagasta       103104  Hospital de Mejillones   \n",
      "723               3      Antofagasta       103104  Hospital de Mejillones   \n",
      "724               3      Antofagasta       103104  Hospital de Mejillones   \n",
      "725               3      Antofagasta       103104  Hospital de Mejillones   \n",
      "726               3      Antofagasta       103104  Hospital de Mejillones   \n",
      "\n",
      "     Cód. Nivel Cuidado   Nombre Nivel Cuidado                      Glosa  \\\n",
      "722                   0  Datos Establecimiento      Dias Cama Disponibles   \n",
      "723                   0  Datos Establecimiento         Dias Cama Ocupados   \n",
      "724                   0  Datos Establecimiento             Dias de Estada   \n",
      "725                   0  Datos Establecimiento  Promedio Cama Disponibles   \n",
      "726                   0  Datos Establecimiento          Numero de Egresos   \n",
      "\n",
      "       Acum    Ene    Feb    Mar    Abr    May    Jun    Jul    Ago    Sep  \\\n",
      "722  3650.0  310.0  280.0  310.0  300.0  310.0  300.0  310.0  310.0  300.0   \n",
      "723   666.0   94.0   16.0   65.0   69.0   62.0   70.0   75.0   76.0   58.0   \n",
      "724   666.0   94.0   16.0   65.0   69.0   62.0   70.0   75.0   76.0   58.0   \n",
      "725    10.0   10.0   10.0   10.0   10.0   10.0   10.0   10.0   10.0   10.0   \n",
      "726   170.0   11.0    5.0   20.0   17.0   16.0   21.0   15.0   20.0   20.0   \n",
      "\n",
      "       Oct    Nov    Dic  \n",
      "722  310.0  300.0  310.0  \n",
      "723   33.0   33.0   15.0  \n",
      "724   33.0   33.0   15.0  \n",
      "725   10.0   10.0   10.0  \n",
      "726   11.0    8.0    6.0  \n"
     ]
    }
   ],
   "source": [
    "# Filtrar el dataframe de estadísticas para solo incluir los hospitales presentes en df_hospitales\n",
    "df_filtrado_hospitales = df_estadisticas[df_estadisticas['Nombre Establecimiento'].isin(df_hospitales['Nombre Establecimiento'])]\n",
    "\n",
    "# Ver las primeras filas del dataframe filtrado\n",
    "print(df_filtrado_hospitales.head())\n"
   ]
  },
  {
   "cell_type": "code",
   "execution_count": 29,
   "id": "6e1dfed9",
   "metadata": {},
   "outputs": [
    {
     "data": {
      "text/plain": [
       "92"
      ]
     },
     "execution_count": 29,
     "metadata": {},
     "output_type": "execute_result"
    }
   ],
   "source": [
    "df_filtrado_hospitales['Nombre Establecimiento'].nunique()"
   ]
  },
  {
   "cell_type": "code",
   "execution_count": 31,
   "id": "d24ecdfc",
   "metadata": {},
   "outputs": [],
   "source": [
    "# Función para filtrar por hospital, área y mes\n",
    "def filtrar_datos_por_hospital_area_mes(df, hospital, area, mes):\n",
    "    \"\"\"\n",
    "    Filtra el DataFrame por nombre de hospital, área y mes.\n",
    "\n",
    "    Args:\n",
    "        df (pd.DataFrame): DataFrame original.\n",
    "        hospital (str): Nombre del hospital.\n",
    "        area (str): Nombre del área o servicio.\n",
    "        mes (str): Nombre del mes, ej. 'Enero', 'Febrero'...\n",
    "\n",
    "    Returns:\n",
    "        pd.DataFrame: DataFrame filtrado.\n",
    "    \"\"\"\n",
    "    # Filtrar por nombre de establecimiento y área\n",
    "    filtro = (\n",
    "        (df['Nombre Establecimiento'] == hospital) &\n",
    "        (df['Nombre Nivel Cuidado'] == area)\n",
    "    )\n",
    "\n",
    "    # Columnas que contienen el mes en su nombre\n",
    "    columnas_mes = [col for col in df.columns if mes.lower() in col.lower()]\n",
    "\n",
    "    # Seleccionar las columnas necesarias\n",
    "    columnas_finales = ['Nombre Establecimiento', 'Nombre Nivel Cuidado'] + columnas_mes\n",
    "    df_filtrado = df.loc[filtro, columnas_finales].copy()\n",
    "\n",
    "    return df_filtrado\n"
   ]
  },
  {
   "cell_type": "code",
   "execution_count": null,
   "id": "a75f0621",
   "metadata": {},
   "outputs": [
    {
     "name": "stdout",
     "output_type": "stream",
     "text": [
      "               Nombre Establecimiento              Nombre Nivel Cuidado  \\\n",
      "12330  Hospital Regional de Coihaique  Área Cuidados Intensivos Adultos   \n",
      "12331  Hospital Regional de Coihaique  Área Cuidados Intensivos Adultos   \n",
      "12332  Hospital Regional de Coihaique  Área Cuidados Intensivos Adultos   \n",
      "12333  Hospital Regional de Coihaique  Área Cuidados Intensivos Adultos   \n",
      "12334  Hospital Regional de Coihaique  Área Cuidados Intensivos Adultos   \n",
      "12335  Hospital Regional de Coihaique  Área Cuidados Intensivos Adultos   \n",
      "12336  Hospital Regional de Coihaique  Área Cuidados Intensivos Adultos   \n",
      "12337  Hospital Regional de Coihaique  Área Cuidados Intensivos Adultos   \n",
      "12338  Hospital Regional de Coihaique  Área Cuidados Intensivos Adultos   \n",
      "12339  Hospital Regional de Coihaique  Área Cuidados Intensivos Adultos   \n",
      "12340  Hospital Regional de Coihaique  Área Cuidados Intensivos Adultos   \n",
      "\n",
      "          Mar  \n",
      "12330  248.00  \n",
      "12331  151.00  \n",
      "12332  116.00  \n",
      "12333    8.00  \n",
      "12334   13.00  \n",
      "12335    6.00  \n",
      "12336   60.89  \n",
      "12337    5.04  \n",
      "12338    2.88  \n",
      "12339   26.09  \n",
      "12340   10.00  \n"
     ]
    }
   ],
   "source": [
    "# Llamar a la función usando el dataframe filtrado\n",
    "resultado = filtrar_datos_por_hospital_area_mes(df, \"Hospital Regional de Coihaique\", \"Área Cuidados Intensivos Adultos\", \"Mar\")\n",
    "print(resultado)"
   ]
  }
 ],
 "metadata": {
  "kernelspec": {
   "display_name": "SENDA_Chile",
   "language": "python",
   "name": "python3"
  },
  "language_info": {
   "codemirror_mode": {
    "name": "ipython",
    "version": 3
   },
   "file_extension": ".py",
   "mimetype": "text/x-python",
   "name": "python",
   "nbconvert_exporter": "python",
   "pygments_lexer": "ipython3",
   "version": "3.10.6"
  }
 },
 "nbformat": 4,
 "nbformat_minor": 5
}
