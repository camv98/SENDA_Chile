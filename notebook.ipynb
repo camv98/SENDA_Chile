{
 "cells": [
  {
   "cell_type": "markdown",
   "id": "165e9ef1",
   "metadata": {},
   "source": [
    "Este es el notebook de guillermo"
   ]
  },
  {
   "cell_type": "code",
   "execution_count": null,
   "id": "d020fb3d",
   "metadata": {
    "vscode": {
     "languageId": "plaintext"
    }
   },
   "outputs": [],
   "source": []
  }
 ],
 "metadata": {
  "language_info": {
   "name": "python"
  }
 },
 "nbformat": 4,
 "nbformat_minor": 5
}
